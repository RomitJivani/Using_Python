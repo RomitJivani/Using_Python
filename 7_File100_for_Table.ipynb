{
 "cells": [
  {
   "cell_type": "code",
   "execution_count": 10,
   "id": "ae20f0b1",
   "metadata": {},
   "outputs": [],
   "source": [
    "#import pandas as pd\n",
    "#import csv \n",
    "#import numpy as np \n",
    "#import io"
   ]
  },
  {
   "cell_type": "code",
   "execution_count": 11,
   "id": "8c9fbffd",
   "metadata": {},
   "outputs": [],
   "source": [
    "filenames = ['4_Sorted_DCM_Data_with_python.txt', '6_Sorted_adtf_data_using_python.txt']\n",
    "  \n",
    "\n",
    "with open('8_file3.csv','w') as outfile:\n",
    "    for names in filenames:\n",
    "        with open(names) as infile:\n",
    "            outfile.write(infile.read())\n",
    "            \n",
    "        outfile.write(\"\\n\")"
   ]
  },
  {
   "cell_type": "code",
   "execution_count": null,
   "id": "69d6ea31",
   "metadata": {},
   "outputs": [],
   "source": []
  }
 ],
 "metadata": {
  "kernelspec": {
   "display_name": "Python 3 (ipykernel)",
   "language": "python",
   "name": "python3"
  },
  "language_info": {
   "codemirror_mode": {
    "name": "ipython",
    "version": 3
   },
   "file_extension": ".py",
   "mimetype": "text/x-python",
   "name": "python",
   "nbconvert_exporter": "python",
   "pygments_lexer": "ipython3",
   "version": "3.9.7"
  }
 },
 "nbformat": 4,
 "nbformat_minor": 5
}
