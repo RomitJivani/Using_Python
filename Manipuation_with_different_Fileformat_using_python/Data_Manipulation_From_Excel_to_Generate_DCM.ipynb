{
 "cells": [
  {
   "cell_type": "code",
   "execution_count": 1,
   "id": "6c6b814b",
   "metadata": {},
   "outputs": [],
   "source": [
    "############### Start --> Appending Heading and Creating \"updated DCM file\" from file \"Filteration of .dcm & .xml\" ########\n",
    "\n",
    "############### Goal 1 : Here we want to use over Heading from dcm File data, which is around 20 Lines      ###############\n",
    "############### Goal 2 : And put that 20 Lines upwards                                                      ###############\n",
    "############### Goal 3 : After Heading we want to have our updated dcm value to generate exact dcm file     ###############\n",
    "############### Goal 4 : Here we want to add that words(Like C_AdaPa_ & _f32) and words(Like \"AdaAlgo_Get\") ###############\n",
    "\n",
    "ofile_for_heading = open(\"ADA_default_mod_C03.dcm\", \"r+\")\n",
    "#print(ofile_for_heading.readline())\n",
    "\n",
    "heading = \"\"\n",
    "end_count = 0\n",
    "while end_count < 3:\n",
    "    line_data = ofile_for_heading.readline()\n",
    "    heading += line_data\n",
    "    if line_data.strip() == 'END':\n",
    "        end_count += 1\n",
    "heading += \"\\n\"        \n",
    "#print(\"heading:\\n\", heading)"
   ]
  },
  {
   "cell_type": "code",
   "execution_count": 3,
   "id": "908fbd2f",
   "metadata": {},
   "outputs": [],
   "source": [
    "ofilteration = open(\"4_Filteration_of_dcm_and_xml.csv\",\"r+\")\n",
    "rfilteration= ofilteration.read() \n",
    "sp_filteration=rfilteration.split(\"\\n\")\n",
    "#sp_filteration\n",
    "#print(sp_Data)"
   ]
  },
  {
   "cell_type": "code",
   "execution_count": 4,
   "id": "800cf351",
   "metadata": {},
   "outputs": [],
   "source": [
    "define_dcm=open(\"ADA_default_mod_C03.dcm\",\"r+\")            \n",
    "rdcm=define_dcm.read()\n",
    "dcmfile = rdcm.split('\\n')\n",
    "\n",
    "with open('6_updated_dcm_file_from_excel.dcm','a') as updated:\n",
    "    updated.write(heading)\n",
    "\n",
    "for i in range(0,len(sp_filteration)):\n",
    "    col_values = sp_filteration[i].split(\";\")\n",
    "    if len(col_values) >= 3:\n",
    "        festwert = col_values[1]\n",
    "        found_in_dcm = False\n",
    "        for line in dcmfile:\n",
    "            #print(f\"line: {line}\")\n",
    "            if \"FESTWERT \" in line:\n",
    "                original_Festwert= line.split(\"FESTWERT \")[1]\n",
    "                #print(f\"original_Festwert: {original_Festwert}\")\n",
    "                if festwert in original_Festwert:\n",
    "                    festwert=original_Festwert\n",
    "                    found_in_dcm = True\n",
    "                    break\n",
    "        if found_in_dcm is False:\n",
    "            festwert = \"AdaAlgo_Get\" + festwert\n",
    "    \n",
    "        wert = col_values[2]\n",
    "        Einheit_W = '\"\"'\n",
    "        Langname= '\"'+festwert+'\"'\n",
    "        main_string = f\"FESTWERT {festwert}\\n   LANGNAME {Langname}\\n   EINHEIT_W {Einheit_W}\\n   WERT   {wert}\\nEND\\n\\n\"\n",
    "        with open('6_updated_dcm_file_from_excel.dcm','a') as updated:\n",
    "            dcm=updated.write(main_string)\n",
    "            #print(dcm.count(\"FESTWERT\"))\n",
    "\n",
    "############### END --> Appending Heading and Creating \"updated DCM file\" from file \"Filteration of .dcm & .xml\" ##########"
   ]
  },
  {
   "cell_type": "code",
   "execution_count": null,
   "id": "a4e4309e",
   "metadata": {},
   "outputs": [],
   "source": []
  }
 ],
 "metadata": {
  "kernelspec": {
   "display_name": "Python 3 (ipykernel)",
   "language": "python",
   "name": "python3"
  },
  "language_info": {
   "codemirror_mode": {
    "name": "ipython",
    "version": 3
   },
   "file_extension": ".py",
   "mimetype": "text/x-python",
   "name": "python",
   "nbconvert_exporter": "python",
   "pygments_lexer": "ipython3",
   "version": "3.9.7"
  }
 },
 "nbformat": 4,
 "nbformat_minor": 5
}
