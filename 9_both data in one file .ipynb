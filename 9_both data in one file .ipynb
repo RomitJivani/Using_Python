{
 "cells": [
  {
   "cell_type": "code",
   "execution_count": 6,
   "id": "5ba3255d",
   "metadata": {
    "scrolled": false
   },
   "outputs": [],
   "source": [
    "import pandas as pd\n",
    "import csv \n",
    "\n",
    "nf=open('8_file3.csv')\n",
    "f3= nf.read()\n",
    "file=f3.split('\\n')\n",
    "DCM_Name= file[:257]\n",
    "ADTF_Name= file[258:]\n",
    "#DCM_Name\n",
    "#ADTF_Name"
   ]
  },
  {
   "cell_type": "code",
   "execution_count": 4,
   "id": "0738b219",
   "metadata": {},
   "outputs": [],
   "source": [
    "with open('10_Final_ADTF_DCM_DATA_Frame.xlsx', 'w') as file:\n",
    "    for i in DCM_Name:\n",
    "        DCM_row_values = i.split(';')\n",
    "        #print(f\"{DCM_row_values[1]}: {DCM_row_values[2]}\")\n",
    "        for j in ADTF_Name:\n",
    "            ADTF_row_values = j.split(';')\n",
    "            #print(f\"ADTF_row_values: {ADTF_row_values}\")\n",
    "            if (len(ADTF_row_values) >= 3) and (DCM_row_values[1] == ADTF_row_values[1]):\n",
    "                final_string = ';'.join(DCM_row_values) + \";\" + ADTF_row_values[2] + \"\\n\"\n",
    "                print(final_string)\n",
    "                file.write(final_string)"
   ]
  },
  {
   "cell_type": "code",
   "execution_count": null,
   "id": "e9637601",
   "metadata": {},
   "outputs": [],
   "source": []
  }
 ],
 "metadata": {
  "kernelspec": {
   "display_name": "Python 3 (ipykernel)",
   "language": "python",
   "name": "python3"
  },
  "language_info": {
   "codemirror_mode": {
    "name": "ipython",
    "version": 3
   },
   "file_extension": ".py",
   "mimetype": "text/x-python",
   "name": "python",
   "nbconvert_exporter": "python",
   "pygments_lexer": "ipython3",
   "version": "3.9.7"
  }
 },
 "nbformat": 4,
 "nbformat_minor": 5
}
